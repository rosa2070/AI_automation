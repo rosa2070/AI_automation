{
  "nbformat": 4,
  "nbformat_minor": 0,
  "metadata": {
    "colab": {
      "name": "제주산학융합원_2021_인공지능을_활용한_업무자동화.ipynb",
      "provenance": [],
      "authorship_tag": "ABX9TyMwyVhsTXrkdtH/wd1DE8w/",
      "include_colab_link": true
    },
    "kernelspec": {
      "name": "python3",
      "display_name": "Python 3"
    }
  },
  "cells": [
    {
      "cell_type": "markdown",
      "metadata": {
        "id": "view-in-github",
        "colab_type": "text"
      },
      "source": [
        "<a href=\"https://colab.research.google.com/github/rosa2070/AI_automation/blob/main/%EC%A0%9C%EC%A3%BC%EC%82%B0%ED%95%99%EC%9C%B5%ED%95%A9%EC%9B%90_2021_%EC%9D%B8%EA%B3%B5%EC%A7%80%EB%8A%A5%EC%9D%84_%ED%99%9C%EC%9A%A9%ED%95%9C_%EC%97%85%EB%AC%B4%EC%9E%90%EB%8F%99%ED%99%94.ipynb\" target=\"_parent\"><img src=\"https://colab.research.google.com/assets/colab-badge.svg\" alt=\"Open In Colab\"/></a>"
      ]
    },
    {
      "cell_type": "code",
      "metadata": {
        "colab": {
          "base_uri": "https://localhost:8080/"
        },
        "id": "KWATeLyFErF9",
        "outputId": "02b68040-abe2-4df8-9320-28c72d8f1da6"
      },
      "source": [
        "x = 3\r\n",
        "y = 7\r\n",
        "x + y"
      ],
      "execution_count": 1,
      "outputs": [
        {
          "output_type": "execute_result",
          "data": {
            "text/plain": [
              "10"
            ]
          },
          "metadata": {
            "tags": []
          },
          "execution_count": 1
        }
      ]
    },
    {
      "cell_type": "markdown",
      "metadata": {
        "id": "WbVwysIQGR7P"
      },
      "source": [
        "## PYTHON - 변수"
      ]
    },
    {
      "cell_type": "code",
      "metadata": {
        "colab": {
          "base_uri": "https://localhost:8080/"
        },
        "id": "-P32JEDXFPR8",
        "outputId": "d6289f93-efdf-4ec6-b22e-72d60cede921"
      },
      "source": [
        "x = 3\r\n",
        "y = 7\r\n",
        "x + y"
      ],
      "execution_count": 2,
      "outputs": [
        {
          "output_type": "execute_result",
          "data": {
            "text/plain": [
              "10"
            ]
          },
          "metadata": {
            "tags": []
          },
          "execution_count": 2
        }
      ]
    },
    {
      "cell_type": "code",
      "metadata": {
        "id": "fKmpQqTOFNNc"
      },
      "source": [
        "a = 10\r\n",
        "b = 10.1\r\n",
        "c = '10'\r\n",
        "d = '10.1'\r\n",
        "e = 'lee'\r\n",
        "f = 'hojun'\r\n",
        "g = True\r\n",
        "h = [10, 20, 30, 40]\r\n",
        "i = (10, 20, 30, 40)\r\n",
        "j = {10, 20, 30, 40, 50}\r\n",
        "k = {'one':'하나', 'two':'둘'}"
      ],
      "execution_count": 3,
      "outputs": []
    },
    {
      "cell_type": "code",
      "metadata": {
        "colab": {
          "base_uri": "https://localhost:8080/"
        },
        "id": "UxIqtoYrHcP6",
        "outputId": "a37c4b03-f0d3-4af7-9220-0f6fc313f4b8"
      },
      "source": [
        "print(a + a) # 20\r\n",
        "print(a + b) # 20.1\r\n",
        "# print(a + c) # error\r\n",
        "print(c + c)\r\n",
        "print(e + f)"
      ],
      "execution_count": 4,
      "outputs": [
        {
          "output_type": "stream",
          "text": [
            "20\n",
            "20.1\n",
            "1010\n",
            "leehojun\n"
          ],
          "name": "stdout"
        }
      ]
    },
    {
      "cell_type": "code",
      "metadata": {
        "colab": {
          "base_uri": "https://localhost:8080/"
        },
        "id": "tMRpyzMJIDqg",
        "outputId": "5509550e-9c8a-4f40-b4ed-f69dae2e7696"
      },
      "source": [
        "a = 10\r\n",
        "b = 3\r\n",
        "print(a + b)\r\n",
        "print(a - b)\r\n",
        "print(a / b) # 실수\r\n",
        "print(a // b) # 정수\r\n",
        "print(a * b)\r\n",
        "print(a ** b)\r\n",
        "print(a % b)"
      ],
      "execution_count": 5,
      "outputs": [
        {
          "output_type": "stream",
          "text": [
            "13\n",
            "7\n",
            "3.3333333333333335\n",
            "3\n",
            "30\n",
            "1000\n",
            "1\n"
          ],
          "name": "stdout"
        }
      ]
    },
    {
      "cell_type": "code",
      "metadata": {
        "colab": {
          "base_uri": "https://localhost:8080/"
        },
        "id": "BY8h4-lMIncJ",
        "outputId": "e785b157-6b81-4ee1-998f-0897f1ce69b5"
      },
      "source": [
        "print(type(a))\r\n",
        "print(dir(a))"
      ],
      "execution_count": 7,
      "outputs": [
        {
          "output_type": "stream",
          "text": [
            "<class 'int'>\n",
            "['__abs__', '__add__', '__and__', '__bool__', '__ceil__', '__class__', '__delattr__', '__dir__', '__divmod__', '__doc__', '__eq__', '__float__', '__floor__', '__floordiv__', '__format__', '__ge__', '__getattribute__', '__getnewargs__', '__gt__', '__hash__', '__index__', '__init__', '__init_subclass__', '__int__', '__invert__', '__le__', '__lshift__', '__lt__', '__mod__', '__mul__', '__ne__', '__neg__', '__new__', '__or__', '__pos__', '__pow__', '__radd__', '__rand__', '__rdivmod__', '__reduce__', '__reduce_ex__', '__repr__', '__rfloordiv__', '__rlshift__', '__rmod__', '__rmul__', '__ror__', '__round__', '__rpow__', '__rrshift__', '__rshift__', '__rsub__', '__rtruediv__', '__rxor__', '__setattr__', '__sizeof__', '__str__', '__sub__', '__subclasshook__', '__truediv__', '__trunc__', '__xor__', 'bit_length', 'conjugate', 'denominator', 'from_bytes', 'imag', 'numerator', 'real', 'to_bytes']\n"
          ],
          "name": "stdout"
        }
      ]
    },
    {
      "cell_type": "markdown",
      "metadata": {
        "id": "Q0Svpx6xNjO-"
      },
      "source": [
        "* int - 정수\r\n",
        "* float - 실수\r\n",
        "* bool - True, False\r\n",
        "* str - 문자열\r\n",
        "* list - 순서가 있고, 변경이 가능한 자료형\r\n",
        "    * test = [10, 20, 30, 40]\r\n",
        "\r\n",
        "* tuple - 순서가 있고, 변경이 불가한 자료형\r\n",
        "    * test = (10, 20, 30, 40)\r\n",
        "\r\n",
        "* dict - key와 value의 쌍으로 이뤄진 자료형, 순서 없음\r\n",
        "    * test = {'one':'하나', 'two':'둘'}\r\n",
        "\r\n",
        "* set - 순서가 없고, 중복을 허락하지 않음\r\n",
        "    * test = {10, 20, 30, 40, 40}"
      ]
    },
    {
      "cell_type": "code",
      "metadata": {
        "colab": {
          "base_uri": "https://localhost:8080/"
        },
        "id": "tKqUQVC-NYwA",
        "outputId": "1100949d-a131-4252-b1be-1f586d4b9d56"
      },
      "source": [
        "a = 10\r\n",
        "b = 3\r\n",
        "print(a == b)\r\n",
        "print(a >= b)\r\n",
        "print(a > b)\r\n",
        "print(a <= b)\r\n",
        "print(a < b)\r\n",
        "print(a != b)"
      ],
      "execution_count": 8,
      "outputs": [
        {
          "output_type": "stream",
          "text": [
            "False\n",
            "True\n",
            "True\n",
            "False\n",
            "False\n",
            "True\n"
          ],
          "name": "stdout"
        }
      ]
    },
    {
      "cell_type": "code",
      "metadata": {
        "colab": {
          "base_uri": "https://localhost:8080/"
        },
        "id": "rdgc93ajOos0",
        "outputId": "252b75d1-c59a-440a-fc01-7deea980d644"
      },
      "source": [
        "# 논리연산\r\n",
        "a = True\r\n",
        "b = False\r\n",
        "\r\n",
        "print(a and b) # 곱 (둘 다 만족해야 True)\r\n",
        "print(a or b) # 합 (둘 중 하나를 만족하면 True)\r\n",
        "print(not b) # 부정 "
      ],
      "execution_count": 11,
      "outputs": [
        {
          "output_type": "stream",
          "text": [
            "False\n",
            "True\n",
            "True\n"
          ],
          "name": "stdout"
        }
      ]
    },
    {
      "cell_type": "code",
      "metadata": {
        "colab": {
          "base_uri": "https://localhost:8080/"
        },
        "id": "O4_rpQJMPJOx",
        "outputId": "5c32998d-0560-40d4-e689-5f9e5285baae"
      },
      "source": [
        "for i in range(100):\r\n",
        "  if i % 3 == 0 or i % 5 == 0:\r\n",
        "    print(i)"
      ],
      "execution_count": 14,
      "outputs": [
        {
          "output_type": "stream",
          "text": [
            "0\n",
            "3\n",
            "5\n",
            "6\n",
            "9\n",
            "10\n",
            "12\n",
            "15\n",
            "18\n",
            "20\n",
            "21\n",
            "24\n",
            "25\n",
            "27\n",
            "30\n",
            "33\n",
            "35\n",
            "36\n",
            "39\n",
            "40\n",
            "42\n",
            "45\n",
            "48\n",
            "50\n",
            "51\n",
            "54\n",
            "55\n",
            "57\n",
            "60\n",
            "63\n",
            "65\n",
            "66\n",
            "69\n",
            "70\n",
            "72\n",
            "75\n",
            "78\n",
            "80\n",
            "81\n",
            "84\n",
            "85\n",
            "87\n",
            "90\n",
            "93\n",
            "95\n",
            "96\n",
            "99\n"
          ],
          "name": "stdout"
        }
      ]
    },
    {
      "cell_type": "code",
      "metadata": {
        "colab": {
          "base_uri": "https://localhost:8080/"
        },
        "id": "Iih9_-vJP_sB",
        "outputId": "74a8de89-b3fa-4c96-f78a-f3a416642601"
      },
      "source": [
        "a = 10\r\n",
        "a = a + 10\r\n",
        "print(a)\r\n",
        "a += 10\r\n",
        "print(a)\r\n",
        "a **= 2\r\n",
        "print(a)"
      ],
      "execution_count": 18,
      "outputs": [
        {
          "output_type": "stream",
          "text": [
            "20\n",
            "30\n",
            "900\n"
          ],
          "name": "stdout"
        }
      ]
    },
    {
      "cell_type": "code",
      "metadata": {
        "colab": {
          "base_uri": "https://localhost:8080/"
        },
        "id": "AGXtRWh6QoX3",
        "outputId": "86ecddc0-8f64-4039-9500-3c5f8704b255"
      },
      "source": [
        "# 반복문과 조건문\r\n",
        "x = 0\r\n",
        "\r\n",
        "while x < 10:\r\n",
        "  print(x)\r\n",
        "  x = x + 1\r\n",
        "print('end')"
      ],
      "execution_count": 21,
      "outputs": [
        {
          "output_type": "stream",
          "text": [
            "0\n",
            "1\n",
            "2\n",
            "3\n",
            "4\n",
            "5\n",
            "6\n",
            "7\n",
            "8\n",
            "9\n",
            "end\n"
          ],
          "name": "stdout"
        }
      ]
    },
    {
      "cell_type": "code",
      "metadata": {
        "colab": {
          "base_uri": "https://localhost:8080/",
          "height": 579
        },
        "id": "B9ul8VFUSBnV",
        "outputId": "887412d0-7711-4163-b636-77bb53ebe535"
      },
      "source": [
        "import random\r\n",
        "\r\n",
        "x = random.randint(1, 100)\r\n",
        "\r\n",
        "while True:\r\n",
        "     user_input = int(input('숫자를 입력하세요.'))\r\n",
        "     if x > user_input:\r\n",
        "         print('Up')\r\n",
        "     if x < user_input:\r\n",
        "         print('Down')\r\n",
        "     if x == user_input:\r\n",
        "         print('맞췄습니다.')\r\n",
        "         break\r\n",
        "print('end')"
      ],
      "execution_count": 4,
      "outputs": [
        {
          "output_type": "error",
          "ename": "KeyboardInterrupt",
          "evalue": "ignored",
          "traceback": [
            "\u001b[0;31m---------------------------------------------------------------------------\u001b[0m",
            "\u001b[0;31mKeyboardInterrupt\u001b[0m                         Traceback (most recent call last)",
            "\u001b[0;32m/usr/local/lib/python3.6/dist-packages/ipykernel/kernelbase.py\u001b[0m in \u001b[0;36m_input_request\u001b[0;34m(self, prompt, ident, parent, password)\u001b[0m\n\u001b[1;32m    728\u001b[0m             \u001b[0;32mtry\u001b[0m\u001b[0;34m:\u001b[0m\u001b[0;34m\u001b[0m\u001b[0;34m\u001b[0m\u001b[0m\n\u001b[0;32m--> 729\u001b[0;31m                 \u001b[0mident\u001b[0m\u001b[0;34m,\u001b[0m \u001b[0mreply\u001b[0m \u001b[0;34m=\u001b[0m \u001b[0mself\u001b[0m\u001b[0;34m.\u001b[0m\u001b[0msession\u001b[0m\u001b[0;34m.\u001b[0m\u001b[0mrecv\u001b[0m\u001b[0;34m(\u001b[0m\u001b[0mself\u001b[0m\u001b[0;34m.\u001b[0m\u001b[0mstdin_socket\u001b[0m\u001b[0;34m,\u001b[0m \u001b[0;36m0\u001b[0m\u001b[0;34m)\u001b[0m\u001b[0;34m\u001b[0m\u001b[0;34m\u001b[0m\u001b[0m\n\u001b[0m\u001b[1;32m    730\u001b[0m             \u001b[0;32mexcept\u001b[0m \u001b[0mException\u001b[0m\u001b[0;34m:\u001b[0m\u001b[0;34m\u001b[0m\u001b[0;34m\u001b[0m\u001b[0m\n",
            "\u001b[0;32m/usr/local/lib/python3.6/dist-packages/jupyter_client/session.py\u001b[0m in \u001b[0;36mrecv\u001b[0;34m(self, socket, mode, content, copy)\u001b[0m\n\u001b[1;32m    802\u001b[0m         \u001b[0;32mtry\u001b[0m\u001b[0;34m:\u001b[0m\u001b[0;34m\u001b[0m\u001b[0;34m\u001b[0m\u001b[0m\n\u001b[0;32m--> 803\u001b[0;31m             \u001b[0mmsg_list\u001b[0m \u001b[0;34m=\u001b[0m \u001b[0msocket\u001b[0m\u001b[0;34m.\u001b[0m\u001b[0mrecv_multipart\u001b[0m\u001b[0;34m(\u001b[0m\u001b[0mmode\u001b[0m\u001b[0;34m,\u001b[0m \u001b[0mcopy\u001b[0m\u001b[0;34m=\u001b[0m\u001b[0mcopy\u001b[0m\u001b[0;34m)\u001b[0m\u001b[0;34m\u001b[0m\u001b[0;34m\u001b[0m\u001b[0m\n\u001b[0m\u001b[1;32m    804\u001b[0m         \u001b[0;32mexcept\u001b[0m \u001b[0mzmq\u001b[0m\u001b[0;34m.\u001b[0m\u001b[0mZMQError\u001b[0m \u001b[0;32mas\u001b[0m \u001b[0me\u001b[0m\u001b[0;34m:\u001b[0m\u001b[0;34m\u001b[0m\u001b[0;34m\u001b[0m\u001b[0m\n",
            "\u001b[0;32m/usr/local/lib/python3.6/dist-packages/zmq/sugar/socket.py\u001b[0m in \u001b[0;36mrecv_multipart\u001b[0;34m(self, flags, copy, track)\u001b[0m\n\u001b[1;32m    565\u001b[0m         \"\"\"\n\u001b[0;32m--> 566\u001b[0;31m         \u001b[0mparts\u001b[0m \u001b[0;34m=\u001b[0m \u001b[0;34m[\u001b[0m\u001b[0mself\u001b[0m\u001b[0;34m.\u001b[0m\u001b[0mrecv\u001b[0m\u001b[0;34m(\u001b[0m\u001b[0mflags\u001b[0m\u001b[0;34m,\u001b[0m \u001b[0mcopy\u001b[0m\u001b[0;34m=\u001b[0m\u001b[0mcopy\u001b[0m\u001b[0;34m,\u001b[0m \u001b[0mtrack\u001b[0m\u001b[0;34m=\u001b[0m\u001b[0mtrack\u001b[0m\u001b[0;34m)\u001b[0m\u001b[0;34m]\u001b[0m\u001b[0;34m\u001b[0m\u001b[0;34m\u001b[0m\u001b[0m\n\u001b[0m\u001b[1;32m    567\u001b[0m         \u001b[0;31m# have first part already, only loop while more to receive\u001b[0m\u001b[0;34m\u001b[0m\u001b[0;34m\u001b[0m\u001b[0;34m\u001b[0m\u001b[0m\n",
            "\u001b[0;32mzmq/backend/cython/socket.pyx\u001b[0m in \u001b[0;36mzmq.backend.cython.socket.Socket.recv\u001b[0;34m()\u001b[0m\n",
            "\u001b[0;32mzmq/backend/cython/socket.pyx\u001b[0m in \u001b[0;36mzmq.backend.cython.socket.Socket.recv\u001b[0;34m()\u001b[0m\n",
            "\u001b[0;32mzmq/backend/cython/socket.pyx\u001b[0m in \u001b[0;36mzmq.backend.cython.socket._recv_copy\u001b[0;34m()\u001b[0m\n",
            "\u001b[0;32m/usr/local/lib/python3.6/dist-packages/zmq/backend/cython/checkrc.pxd\u001b[0m in \u001b[0;36mzmq.backend.cython.checkrc._check_rc\u001b[0;34m()\u001b[0m\n",
            "\u001b[0;31mKeyboardInterrupt\u001b[0m: ",
            "\nDuring handling of the above exception, another exception occurred:\n",
            "\u001b[0;31mKeyboardInterrupt\u001b[0m                         Traceback (most recent call last)",
            "\u001b[0;32m<ipython-input-4-73114cf90d6a>\u001b[0m in \u001b[0;36m<module>\u001b[0;34m()\u001b[0m\n\u001b[1;32m      4\u001b[0m \u001b[0;34m\u001b[0m\u001b[0m\n\u001b[1;32m      5\u001b[0m \u001b[0;32mwhile\u001b[0m \u001b[0;32mTrue\u001b[0m\u001b[0;34m:\u001b[0m\u001b[0;34m\u001b[0m\u001b[0;34m\u001b[0m\u001b[0m\n\u001b[0;32m----> 6\u001b[0;31m      \u001b[0muser_input\u001b[0m \u001b[0;34m=\u001b[0m \u001b[0mint\u001b[0m\u001b[0;34m(\u001b[0m\u001b[0minput\u001b[0m\u001b[0;34m(\u001b[0m\u001b[0;34m'숫자를 입력하세요.'\u001b[0m\u001b[0;34m)\u001b[0m\u001b[0;34m)\u001b[0m\u001b[0;34m\u001b[0m\u001b[0;34m\u001b[0m\u001b[0m\n\u001b[0m\u001b[1;32m      7\u001b[0m      \u001b[0;32mif\u001b[0m \u001b[0mx\u001b[0m \u001b[0;34m>\u001b[0m \u001b[0muser_input\u001b[0m\u001b[0;34m:\u001b[0m\u001b[0;34m\u001b[0m\u001b[0;34m\u001b[0m\u001b[0m\n\u001b[1;32m      8\u001b[0m          \u001b[0mprint\u001b[0m\u001b[0;34m(\u001b[0m\u001b[0;34m'Up'\u001b[0m\u001b[0;34m)\u001b[0m\u001b[0;34m\u001b[0m\u001b[0;34m\u001b[0m\u001b[0m\n",
            "\u001b[0;32m/usr/local/lib/python3.6/dist-packages/ipykernel/kernelbase.py\u001b[0m in \u001b[0;36mraw_input\u001b[0;34m(self, prompt)\u001b[0m\n\u001b[1;32m    702\u001b[0m             \u001b[0mself\u001b[0m\u001b[0;34m.\u001b[0m\u001b[0m_parent_ident\u001b[0m\u001b[0;34m,\u001b[0m\u001b[0;34m\u001b[0m\u001b[0;34m\u001b[0m\u001b[0m\n\u001b[1;32m    703\u001b[0m             \u001b[0mself\u001b[0m\u001b[0;34m.\u001b[0m\u001b[0m_parent_header\u001b[0m\u001b[0;34m,\u001b[0m\u001b[0;34m\u001b[0m\u001b[0;34m\u001b[0m\u001b[0m\n\u001b[0;32m--> 704\u001b[0;31m             \u001b[0mpassword\u001b[0m\u001b[0;34m=\u001b[0m\u001b[0;32mFalse\u001b[0m\u001b[0;34m,\u001b[0m\u001b[0;34m\u001b[0m\u001b[0;34m\u001b[0m\u001b[0m\n\u001b[0m\u001b[1;32m    705\u001b[0m         )\n\u001b[1;32m    706\u001b[0m \u001b[0;34m\u001b[0m\u001b[0m\n",
            "\u001b[0;32m/usr/local/lib/python3.6/dist-packages/ipykernel/kernelbase.py\u001b[0m in \u001b[0;36m_input_request\u001b[0;34m(self, prompt, ident, parent, password)\u001b[0m\n\u001b[1;32m    732\u001b[0m             \u001b[0;32mexcept\u001b[0m \u001b[0mKeyboardInterrupt\u001b[0m\u001b[0;34m:\u001b[0m\u001b[0;34m\u001b[0m\u001b[0;34m\u001b[0m\u001b[0m\n\u001b[1;32m    733\u001b[0m                 \u001b[0;31m# re-raise KeyboardInterrupt, to truncate traceback\u001b[0m\u001b[0;34m\u001b[0m\u001b[0;34m\u001b[0m\u001b[0;34m\u001b[0m\u001b[0m\n\u001b[0;32m--> 734\u001b[0;31m                 \u001b[0;32mraise\u001b[0m \u001b[0mKeyboardInterrupt\u001b[0m\u001b[0;34m\u001b[0m\u001b[0;34m\u001b[0m\u001b[0m\n\u001b[0m\u001b[1;32m    735\u001b[0m             \u001b[0;32melse\u001b[0m\u001b[0;34m:\u001b[0m\u001b[0;34m\u001b[0m\u001b[0;34m\u001b[0m\u001b[0m\n\u001b[1;32m    736\u001b[0m                 \u001b[0;32mbreak\u001b[0m\u001b[0;34m\u001b[0m\u001b[0;34m\u001b[0m\u001b[0m\n",
            "\u001b[0;31mKeyboardInterrupt\u001b[0m: "
          ]
        }
      ]
    },
    {
      "cell_type": "code",
      "metadata": {
        "colab": {
          "base_uri": "https://localhost:8080/"
        },
        "id": "Tlr0bpEucL_7",
        "outputId": "5d4fb196-1af4-410f-de8d-0faeb5bdfeed"
      },
      "source": [
        "for i in range(10):\r\n",
        "  print(i)"
      ],
      "execution_count": 25,
      "outputs": [
        {
          "output_type": "stream",
          "text": [
            "0\n",
            "1\n",
            "2\n",
            "3\n",
            "4\n",
            "5\n",
            "6\n",
            "7\n",
            "8\n",
            "9\n"
          ],
          "name": "stdout"
        }
      ]
    },
    {
      "cell_type": "code",
      "metadata": {
        "colab": {
          "base_uri": "https://localhost:8080/"
        },
        "id": "PODZNkGZcTsI",
        "outputId": "26061cff-d141-40c1-c0be-16d7c0d2252a"
      },
      "source": [
        "for i in 'hello world':\r\n",
        "    print(i)"
      ],
      "execution_count": 26,
      "outputs": [
        {
          "output_type": "stream",
          "text": [
            "h\n",
            "e\n",
            "l\n",
            "l\n",
            "o\n",
            " \n",
            "w\n",
            "o\n",
            "r\n",
            "l\n",
            "d\n"
          ],
          "name": "stdout"
        }
      ]
    },
    {
      "cell_type": "code",
      "metadata": {
        "colab": {
          "base_uri": "https://localhost:8080/"
        },
        "id": "KXz2jku4cl06",
        "outputId": "d9e3df75-8e99-4ab0-98bf-130d63c5defe"
      },
      "source": [
        "s = 0\r\n",
        "for i in [10, 20, 30, 40]:\r\n",
        "    print(i)\r\n",
        "    s = s + i\r\n",
        "print(s)"
      ],
      "execution_count": 27,
      "outputs": [
        {
          "output_type": "stream",
          "text": [
            "10\n",
            "20\n",
            "30\n",
            "40\n",
            "100\n"
          ],
          "name": "stdout"
        }
      ]
    },
    {
      "cell_type": "code",
      "metadata": {
        "colab": {
          "base_uri": "https://localhost:8080/"
        },
        "id": "gTYkxWsFcnA9",
        "outputId": "61fec523-4f68-4d57-868b-f16231caa04c"
      },
      "source": [
        "# range(start, stop, step)\r\n",
        "for i in range(10):\r\n",
        "  print(i)"
      ],
      "execution_count": 28,
      "outputs": [
        {
          "output_type": "stream",
          "text": [
            "0\n",
            "1\n",
            "2\n",
            "3\n",
            "4\n",
            "5\n",
            "6\n",
            "7\n",
            "8\n",
            "9\n"
          ],
          "name": "stdout"
        }
      ]
    },
    {
      "cell_type": "code",
      "metadata": {
        "colab": {
          "base_uri": "https://localhost:8080/"
        },
        "id": "a6AyWihDc-ts",
        "outputId": "b58c6fa5-4a14-4608-c45c-73cd7dfd999a"
      },
      "source": [
        "print(type(range(1, 10)))"
      ],
      "execution_count": 30,
      "outputs": [
        {
          "output_type": "stream",
          "text": [
            "<class 'range'>\n"
          ],
          "name": "stdout"
        }
      ]
    },
    {
      "cell_type": "code",
      "metadata": {
        "id": "LBKGMeMadCBe"
      },
      "source": [
        "list(range(1, 10, 2))\r\n",
        "list(range(1, 10))\r\n",
        "list(range(10))\r\n",
        "list(range(10, 1, -1))"
      ],
      "execution_count": null,
      "outputs": []
    },
    {
      "cell_type": "code",
      "metadata": {
        "id": "1b0ZFPQ6Th_h"
      },
      "source": [
        "# 형변환\r\n",
        "10 + 10\r\n",
        "int('10' + '10')\r\n",
        "str(10) +'10'\r\n",
        "bool(100)"
      ],
      "execution_count": null,
      "outputs": []
    },
    {
      "cell_type": "code",
      "metadata": {
        "colab": {
          "base_uri": "https://localhost:8080/"
        },
        "id": "7VJboIieT35A",
        "outputId": "d5c54554-ce6d-423e-abef-60d1226213f4"
      },
      "source": [
        "# 함수(코드를 재사용하고, 아키텍처를 파악하기)\r\n",
        "\r\n",
        "def 더하기(a, b, c=100):\r\n",
        "  result = a + b + c\r\n",
        "  return result\r\n",
        "\r\n",
        "더하기(10, 20, 30)\r\n",
        "더하기(10, 200)\r\n",
        "더하기(a=10, b=200, c=10)"
      ],
      "execution_count": 7,
      "outputs": [
        {
          "output_type": "execute_result",
          "data": {
            "text/plain": [
              "220"
            ]
          },
          "metadata": {
            "tags": []
          },
          "execution_count": 7
        }
      ]
    },
    {
      "cell_type": "code",
      "metadata": {
        "colab": {
          "base_uri": "https://localhost:8080/"
        },
        "id": "Cq54AyEKUrKq",
        "outputId": "1f35ffdc-406b-458a-9d2c-b1c95725fb8b"
      },
      "source": [
        "def 출력():\r\n",
        "  print('one')\r\n",
        "  print('two')\r\n",
        "  return None\r\n",
        "print('three')\r\n",
        "print('four')\r\n",
        "출력()\r\n"
      ],
      "execution_count": 9,
      "outputs": [
        {
          "output_type": "stream",
          "text": [
            "three\n",
            "four\n",
            "one\n",
            "two\n",
            "None\n"
          ],
          "name": "stdout"
        }
      ]
    },
    {
      "cell_type": "code",
      "metadata": {
        "colab": {
          "base_uri": "https://localhost:8080/"
        },
        "id": "sY30pVu4Vkbk",
        "outputId": "d7499d85-afff-4d58-f77f-aab2ed6f41c0"
      },
      "source": [
        "sum([1, 2, 3, 4, 5])\r\n",
        "min([1, 2, 3, 4, 5])\r\n",
        "max([1, 2, 3, 4, 5])"
      ],
      "execution_count": 10,
      "outputs": [
        {
          "output_type": "execute_result",
          "data": {
            "text/plain": [
              "5"
            ]
          },
          "metadata": {
            "tags": []
          },
          "execution_count": 10
        }
      ]
    },
    {
      "cell_type": "code",
      "metadata": {
        "colab": {
          "base_uri": "https://localhost:8080/"
        },
        "id": "ZtWp0kcPUckd",
        "outputId": "b2e2c463-8864-4417-d036-8f8be5c6361b"
      },
      "source": [
        "# 리스트, 튜플, 딕셔너리, 셋\r\n",
        "리스트 = [10, 20, 30, 40]\r\n",
        "print(type(리스트))\r\n",
        "print(dir(리스트))\r\n",
        "# 'append, 'clear', 'copy', 'count', 'extend',\r\n",
        "# 'index', 'insert', 'pop', 'remove', 'reverse', 'sort'"
      ],
      "execution_count": 11,
      "outputs": [
        {
          "output_type": "stream",
          "text": [
            "<class 'list'>\n",
            "['__add__', '__class__', '__contains__', '__delattr__', '__delitem__', '__dir__', '__doc__', '__eq__', '__format__', '__ge__', '__getattribute__', '__getitem__', '__gt__', '__hash__', '__iadd__', '__imul__', '__init__', '__init_subclass__', '__iter__', '__le__', '__len__', '__lt__', '__mul__', '__ne__', '__new__', '__reduce__', '__reduce_ex__', '__repr__', '__reversed__', '__rmul__', '__setattr__', '__setitem__', '__sizeof__', '__str__', '__subclasshook__', 'append', 'clear', 'copy', 'count', 'extend', 'index', 'insert', 'pop', 'remove', 'reverse', 'sort']\n"
          ],
          "name": "stdout"
        }
      ]
    },
    {
      "cell_type": "code",
      "metadata": {
        "colab": {
          "base_uri": "https://localhost:8080/"
        },
        "id": "xQPS7ouMadpP",
        "outputId": "08dfe6b4-d48d-4b61-a828-cf11bf70b14b"
      },
      "source": [
        "리스트.reverse()\r\n",
        "print(리스트)"
      ],
      "execution_count": 14,
      "outputs": [
        {
          "output_type": "stream",
          "text": [
            "[40, 30, 20, 10]\n"
          ],
          "name": "stdout"
        }
      ]
    },
    {
      "cell_type": "code",
      "metadata": {
        "colab": {
          "base_uri": "https://localhost:8080/"
        },
        "id": "97IoXc9Uajs2",
        "outputId": "e560bc67-036d-4960-bafc-37ff1dd0dff7"
      },
      "source": [
        "list(reversed(리스트))"
      ],
      "execution_count": 15,
      "outputs": [
        {
          "output_type": "execute_result",
          "data": {
            "text/plain": [
              "[10, 20, 30, 40]"
            ]
          },
          "metadata": {
            "tags": []
          },
          "execution_count": 15
        }
      ]
    },
    {
      "cell_type": "code",
      "metadata": {
        "colab": {
          "base_uri": "https://localhost:8080/"
        },
        "id": "ZDdQCIXva32W",
        "outputId": "a9d6bb30-3c7d-460f-d31f-72a28af3970b"
      },
      "source": [
        "리스트.append(50)\r\n",
        "리스트"
      ],
      "execution_count": 18,
      "outputs": [
        {
          "output_type": "execute_result",
          "data": {
            "text/plain": [
              "[40, 30, 20, 10, 50, 50]"
            ]
          },
          "metadata": {
            "tags": []
          },
          "execution_count": 18
        }
      ]
    },
    {
      "cell_type": "code",
      "metadata": {
        "colab": {
          "base_uri": "https://localhost:8080/"
        },
        "id": "P6X3QF2ja9QC",
        "outputId": "50ccdafb-7613-413a-c086-1827281f82d9"
      },
      "source": [
        "리스트둘 = 리스트.copy()\r\n",
        "리스트둘.append(1000)\r\n",
        "print(리스트)\r\n",
        "print(리스트둘)"
      ],
      "execution_count": 23,
      "outputs": [
        {
          "output_type": "stream",
          "text": [
            "[40, 30, 20, 10, 50, 50, 100]\n",
            "[40, 30, 20, 10, 50, 50, 100, 1000]\n"
          ],
          "name": "stdout"
        }
      ]
    },
    {
      "cell_type": "code",
      "metadata": {
        "colab": {
          "base_uri": "https://localhost:8080/"
        },
        "id": "qpudVS9SbIyG",
        "outputId": "0049429a-f1a2-4d28-8a33-ef9855448c5f"
      },
      "source": [
        "print(id(리스트))\r\n",
        "print(id(리스트둘))"
      ],
      "execution_count": 24,
      "outputs": [
        {
          "output_type": "stream",
          "text": [
            "139965763454856\n",
            "139965762831688\n"
          ],
          "name": "stdout"
        }
      ]
    },
    {
      "cell_type": "code",
      "metadata": {
        "colab": {
          "base_uri": "https://localhost:8080/"
        },
        "id": "qWCMHX5CbbAU",
        "outputId": "bc0599c6-ef7c-40bf-8a17-6c793edef6a1"
      },
      "source": [
        "str(list(range(10000))).count('8')"
      ],
      "execution_count": 31,
      "outputs": [
        {
          "output_type": "execute_result",
          "data": {
            "text/plain": [
              "4000"
            ]
          },
          "metadata": {
            "tags": []
          },
          "execution_count": 31
        }
      ]
    },
    {
      "cell_type": "code",
      "metadata": {
        "colab": {
          "base_uri": "https://localhost:8080/"
        },
        "id": "p7Bk2iZ2dyTD",
        "outputId": "464a7ffb-8de7-4aed-d63b-943692e3a7de"
      },
      "source": [
        "test = (10, test2, 30, 40)\r\n",
        "test2 = [10, 20, 30, 40]\r\n",
        "test2[1] = 100\r\n",
        "test2\r\n",
        "# test[1] = 100"
      ],
      "execution_count": 35,
      "outputs": [
        {
          "output_type": "execute_result",
          "data": {
            "text/plain": [
              "[10, 100, 30, 40]"
            ]
          },
          "metadata": {
            "tags": []
          },
          "execution_count": 35
        }
      ]
    },
    {
      "cell_type": "code",
      "metadata": {
        "colab": {
          "base_uri": "https://localhost:8080/"
        },
        "id": "g_3gZQTjepTU",
        "outputId": "0a2180bd-3dab-4c6d-a87b-154f99c21399"
      },
      "source": [
        "s = {10, 20, 30, 40, 40, 40}\r\n",
        "ss = {10, 20}\r\n",
        "s - ss"
      ],
      "execution_count": 36,
      "outputs": [
        {
          "output_type": "execute_result",
          "data": {
            "text/plain": [
              "{30, 40}"
            ]
          },
          "metadata": {
            "tags": []
          },
          "execution_count": 36
        }
      ]
    },
    {
      "cell_type": "code",
      "metadata": {
        "colab": {
          "base_uri": "https://localhost:8080/"
        },
        "id": "sJ1zLsc5e63h",
        "outputId": "785ffcb1-5c6e-47b1-e93e-48f14ec7ce27"
      },
      "source": [
        "s = 'hello world'\r\n",
        "set(s)"
      ],
      "execution_count": 37,
      "outputs": [
        {
          "output_type": "execute_result",
          "data": {
            "text/plain": [
              "{' ', 'd', 'e', 'h', 'l', 'o', 'r', 'w'}"
            ]
          },
          "metadata": {
            "tags": []
          },
          "execution_count": 37
        }
      ]
    },
    {
      "cell_type": "code",
      "metadata": {
        "colab": {
          "base_uri": "https://localhost:8080/",
          "height": 34
        },
        "id": "Y3U4atrffD31",
        "outputId": "fc889a3c-04be-4f24-d925-6039b63e8020"
      },
      "source": [
        "d = {'one':'하나', \r\n",
        "     'two': '둘'}\r\n",
        "d['one']"
      ],
      "execution_count": 39,
      "outputs": [
        {
          "output_type": "execute_result",
          "data": {
            "application/vnd.google.colaboratory.intrinsic+json": {
              "type": "string"
            },
            "text/plain": [
              "'하나'"
            ]
          },
          "metadata": {
            "tags": []
          },
          "execution_count": 39
        }
      ]
    },
    {
      "cell_type": "code",
      "metadata": {
        "colab": {
          "base_uri": "https://localhost:8080/"
        },
        "id": "uwksLGOsfPWK",
        "outputId": "2a92b691-bac8-42c5-9a74-ffb5380cbf50"
      },
      "source": [
        "koreaRegionalData = [\r\n",
        "    {\r\n",
        "        \"지역이름\": \"전국\",\r\n",
        "        \"확진자수\": 24889,\r\n",
        "        \"격리해제수\": 23030,\r\n",
        "        \"사망자수\": 438,\r\n",
        "        \"십만명당발생율\": 48.0,\r\n",
        "        \"지역별확진자비율\": \"\"\r\n",
        "    },\r\n",
        "    {\r\n",
        "        \"지역이름\": \"서울\",\r\n",
        "        \"확진자수\": 5607,\r\n",
        "        \"격리해제수\": 5050,\r\n",
        "        \"사망자수\": 66,\r\n",
        "        \"십만명당발생율\": 57.61,\r\n",
        "        \"지역별확진자비율\": 22.53\r\n",
        "    },\r\n",
        "    {\r\n",
        "        \"지역이름\": \"부산\",\r\n",
        "        \"확진자수\": 491,\r\n",
        "        \"격리해제수\": 423,\r\n",
        "        \"사망자수\": 4,\r\n",
        "        \"십만명당발생율\": 14.39,\r\n",
        "        \"지역별확진자비율\": 1.97\r\n",
        "    },\r\n",
        "    {\r\n",
        "        \"지역이름\": \"대구\",\r\n",
        "        \"확진자수\": 7141,\r\n",
        "        \"격리해제수\": 6933,\r\n",
        "        \"사망자수\": 196,\r\n",
        "        \"십만명당발생율\": 293.09,\r\n",
        "        \"지역별확진자비율\": 28.69\r\n",
        "    },\r\n",
        "    {\r\n",
        "        \"지역이름\": \"인천\",\r\n",
        "        \"확진자수\": 976,\r\n",
        "        \"격리해제수\": 901,\r\n",
        "        \"사망자수\": 8,\r\n",
        "        \"십만명당발생율\": 33.02,\r\n",
        "        \"지역별확진자비율\": 3.92\r\n",
        "    },\r\n",
        "    {\r\n",
        "        \"지역이름\": \"광주\",\r\n",
        "        \"확진자수\": 499,\r\n",
        "        \"격리해제수\": 493,\r\n",
        "        \"사망자수\": 3,\r\n",
        "        \"십만명당발생율\": 34.26,\r\n",
        "        \"지역별확진자비율\": 2.0\r\n",
        "    },\r\n",
        "    {\r\n",
        "        \"지역이름\": \"대전\",\r\n",
        "        \"확진자수\": 412,\r\n",
        "        \"격리해제수\": 354,\r\n",
        "        \"사망자수\": 5,\r\n",
        "        \"십만명당발생율\": 27.95,\r\n",
        "        \"지역별확진자비율\": 1.66\r\n",
        "    },\r\n",
        "    {\r\n",
        "        \"지역이름\": \"울산\",\r\n",
        "        \"확진자수\": 156,\r\n",
        "        \"격리해제수\": 144,\r\n",
        "        \"사망자수\": 2,\r\n",
        "        \"십만명당발생율\": 13.6,\r\n",
        "        \"지역별확진자비율\": 0.63\r\n",
        "    },\r\n",
        "    {\r\n",
        "        \"지역이름\": \"세종\",\r\n",
        "        \"확진자수\": 78,\r\n",
        "        \"격리해제수\": 74,\r\n",
        "        \"사망자수\": 0,\r\n",
        "        \"십만명당발생율\": 22.79,\r\n",
        "        \"지역별확진자비율\": 0.31\r\n",
        "    },\r\n",
        "    {\r\n",
        "        \"지역이름\": \"경기\",\r\n",
        "        \"확진자수\": 4744,\r\n",
        "        \"격리해제수\": 4277,\r\n",
        "        \"사망자수\": 86,\r\n",
        "        \"십만명당발생율\": 35.8,\r\n",
        "        \"지역별확진자비율\": 19.06\r\n",
        "    },\r\n",
        "    {\r\n",
        "        \"지역이름\": \"강원\",\r\n",
        "        \"확진자수\": 231,\r\n",
        "        \"격리해제수\": 220,\r\n",
        "        \"사망자수\": 3,\r\n",
        "        \"십만명당발생율\": 14.99,\r\n",
        "        \"지역별확진자비율\": 0.93\r\n",
        "    },\r\n",
        "    {\r\n",
        "        \"지역이름\": \"충북\",\r\n",
        "        \"확진자수\": 179,\r\n",
        "        \"격리해제수\": 157,\r\n",
        "        \"사망자수\": 1,\r\n",
        "        \"십만명당발생율\": 11.19,\r\n",
        "        \"지역별확진자비율\": 0.72\r\n",
        "    },\r\n",
        "    {\r\n",
        "        \"지역이름\": \"충남\",\r\n",
        "        \"확진자수\": 500,\r\n",
        "        \"격리해제수\": 458,\r\n",
        "        \"사망자수\": 6,\r\n",
        "        \"십만명당발생율\": 23.56,\r\n",
        "        \"지역별확진자비율\": 2.01\r\n",
        "    },\r\n",
        "    {\r\n",
        "        \"지역이름\": \"전북\",\r\n",
        "        \"확진자수\": 152,\r\n",
        "        \"격리해제수\": 123,\r\n",
        "        \"사망자수\": 0,\r\n",
        "        \"십만명당발생율\": 8.36,\r\n",
        "        \"지역별확진자비율\": 0.61\r\n",
        "    },\r\n",
        "    {\r\n",
        "        \"지역이름\": \"전남\",\r\n",
        "        \"확진자수\": 176,\r\n",
        "        \"격리해제수\": 166,\r\n",
        "        \"사망자수\": 2,\r\n",
        "        \"십만명당발생율\": 9.44,\r\n",
        "        \"지역별확진자비율\": 0.71\r\n",
        "    },\r\n",
        "    {\r\n",
        "        \"지역이름\": \"경북\",\r\n",
        "        \"확진자수\": 1570,\r\n",
        "        \"격리해제수\": 1490,\r\n",
        "        \"사망자수\": 56,\r\n",
        "        \"십만명당발생율\": 58.97,\r\n",
        "        \"지역별확진자비율\": 6.31\r\n",
        "    },\r\n",
        "    {\r\n",
        "        \"지역이름\": \"경남\",\r\n",
        "        \"확진자수\": 297,\r\n",
        "        \"격리해제수\": 286,\r\n",
        "        \"사망자수\": 0,\r\n",
        "        \"십만명당발생율\": 8.84,\r\n",
        "        \"지역별확진자비율\": 1.19\r\n",
        "    },\r\n",
        "    {\r\n",
        "        \"지역이름\": \"제주\",\r\n",
        "        \"확진자수\": 59,\r\n",
        "        \"격리해제수\": 59,\r\n",
        "        \"사망자수\": 0,\r\n",
        "        \"십만명당발생율\": 8.8,\r\n",
        "        \"지역별확진자비율\": 0.24\r\n",
        "    },\r\n",
        "]\r\n",
        "\r\n",
        "for i in koreaRegionalData:\r\n",
        "    if i['지역이름'] == '제주':\r\n",
        "        print(i['확진자수'])"
      ],
      "execution_count": 40,
      "outputs": [
        {
          "output_type": "stream",
          "text": [
            "59\n"
          ],
          "name": "stdout"
        }
      ]
    },
    {
      "cell_type": "code",
      "metadata": {
        "colab": {
          "base_uri": "https://localhost:8080/"
        },
        "id": "CjXLCV4Vg-ee",
        "outputId": "3547cec7-ed94-40bb-9b5f-09d146994d90"
      },
      "source": [
        "score = 89\r\n",
        "money = 0\r\n",
        "\r\n",
        "if score > 90:\r\n",
        "  print('mom : im so happy')\r\n",
        "  money += 1000000\r\n",
        "elif score > 80:\r\n",
        "  print('mom : im so happy')\r\n",
        "  money += 100000\r\n"
      ],
      "execution_count": 42,
      "outputs": [
        {
          "output_type": "stream",
          "text": [
            "mom : im so happy\n"
          ],
          "name": "stdout"
        }
      ]
    },
    {
      "cell_type": "code",
      "metadata": {
        "colab": {
          "base_uri": "https://localhost:8080/"
        },
        "id": "lKQIWs3FiDN5",
        "outputId": "fe4c32a2-cd5d-465b-d7be-48bff4b557bf"
      },
      "source": [
        "score = 89\r\n",
        "money = 0\r\n",
        "\r\n",
        "if score > 90:\r\n",
        "    print('mom : i\\'m so happy')\r\n",
        "    money += 1000000\r\n",
        "elif score > 80:\r\n",
        "    print('mom : i\\'m so happy')\r\n",
        "    money += 100000\r\n",
        "elif score > 70:\r\n",
        "    print('mom : i\\'m happy')\r\n",
        "    money += 10000\r\n",
        "else:\r\n",
        "    print('...')\r\n",
        "\r\n",
        "print(money)"
      ],
      "execution_count": 44,
      "outputs": [
        {
          "output_type": "stream",
          "text": [
            "mom : i'm so happy\n",
            "100000\n"
          ],
          "name": "stdout"
        }
      ]
    },
    {
      "cell_type": "code",
      "metadata": {
        "colab": {
          "base_uri": "https://localhost:8080/"
        },
        "id": "PIy01H1niE9A",
        "outputId": "fd98f591-9e7c-4fa6-9f1c-bf0647a40b47"
      },
      "source": [
        "class Car:\r\n",
        "  maxSpeed = 100\r\n",
        "  maxPeople = 5\r\n",
        "  def start(self, x): # 메서드\r\n",
        "    print(x, '의 스피드로 출발하였습니다.')\r\n",
        "  def stop(self):\r\n",
        "    print('멈췄습니다.')\r\n",
        "\r\n",
        "#인스턴스 = 클래스()\r\n",
        "k3 = Car()\r\n",
        "k5 = Car()\r\n",
        "k3.start(100)\r\n",
        "print(dir(k3))"
      ],
      "execution_count": 49,
      "outputs": [
        {
          "output_type": "stream",
          "text": [
            "100 의 스피드로 출발하였습니다.\n",
            "['__class__', '__delattr__', '__dict__', '__dir__', '__doc__', '__eq__', '__format__', '__ge__', '__getattribute__', '__gt__', '__hash__', '__init__', '__init_subclass__', '__le__', '__lt__', '__module__', '__ne__', '__new__', '__reduce__', '__reduce_ex__', '__repr__', '__setattr__', '__sizeof__', '__str__', '__subclasshook__', '__weakref__', 'maxPeople', 'maxSpeed', 'start', 'stop']\n"
          ],
          "name": "stdout"
        }
      ]
    },
    {
      "cell_type": "code",
      "metadata": {
        "colab": {
          "base_uri": "https://localhost:8080/"
        },
        "id": "Jop2IyvdiZ9y",
        "outputId": "cd88f6c7-435b-43f1-c1ed-bc5396ded03f"
      },
      "source": [
        "class HybridCar(Car):\r\n",
        "  battery = 100\r\n",
        "  batteryKM = 300\r\n",
        "\r\n",
        "#인스턴스 = 클래스()\r\n",
        "k3Hy = HybridCar()\r\n",
        "k5Hy = HybridCar()\r\n",
        "k3Hy.start(100)\r\n",
        "print(dir(k3))\r\n",
        "print(dir(k3Hy))"
      ],
      "execution_count": 52,
      "outputs": [
        {
          "output_type": "stream",
          "text": [
            "100 의 스피드로 출발하였습니다.\n",
            "['__class__', '__delattr__', '__dict__', '__dir__', '__doc__', '__eq__', '__format__', '__ge__', '__getattribute__', '__gt__', '__hash__', '__init__', '__init_subclass__', '__le__', '__lt__', '__module__', '__ne__', '__new__', '__reduce__', '__reduce_ex__', '__repr__', '__setattr__', '__sizeof__', '__str__', '__subclasshook__', '__weakref__', 'maxPeople', 'maxSpeed', 'start', 'stop']\n",
            "['__class__', '__delattr__', '__dict__', '__dir__', '__doc__', '__eq__', '__format__', '__ge__', '__getattribute__', '__gt__', '__hash__', '__init__', '__init_subclass__', '__le__', '__lt__', '__module__', '__ne__', '__new__', '__reduce__', '__reduce_ex__', '__repr__', '__setattr__', '__sizeof__', '__str__', '__subclasshook__', '__weakref__', 'battery', 'batteryKM', 'maxPeople', 'maxSpeed', 'start', 'stop']\n"
          ],
          "name": "stdout"
        }
      ]
    },
    {
      "cell_type": "code",
      "metadata": {
        "id": "PvbZUlmLjDeb"
      },
      "source": [
        ""
      ],
      "execution_count": null,
      "outputs": []
    },
    {
      "cell_type": "code",
      "metadata": {
        "id": "-Fuh8wO7iVXq"
      },
      "source": [
        ""
      ],
      "execution_count": null,
      "outputs": []
    }
  ]
}